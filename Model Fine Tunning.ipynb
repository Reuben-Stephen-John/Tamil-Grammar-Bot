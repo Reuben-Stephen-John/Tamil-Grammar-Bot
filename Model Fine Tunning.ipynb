{
 "cells": [
  {
   "cell_type": "markdown",
   "metadata": {
    "id": "Tce3stUlHN0L"
   },
   "source": [
    "##### Copyright 2024 Google LLC."
   ]
  },
  {
   "cell_type": "code",
   "execution_count": null,
   "metadata": {
    "cellView": "form",
    "id": "tuOe1ymfHZPu"
   },
   "outputs": [],
   "source": [
    "#@title Licensed under the Apache License, Version 2.0 (the \"License\");\n",
    "# you may not use this file except in compliance with the License.\n",
    "# You may obtain a copy of the License at\n",
    "#\n",
    "# https://www.apache.org/licenses/LICENSE-2.0\n",
    "#\n",
    "# Unless required by applicable law or agreed to in writing, software\n",
    "# distributed under the License is distributed on an \"AS IS\" BASIS,\n",
    "# WITHOUT WARRANTIES OR CONDITIONS OF ANY KIND, either express or implied.\n",
    "# See the License for the specific language governing permissions and\n",
    "# limitations under the License."
   ]
  },
  {
   "cell_type": "markdown",
   "metadata": {
    "id": "yeadDkMiISin"
   },
   "source": [
    "# Gemini API: Model tuning with Python"
   ]
  },
  {
   "cell_type": "markdown",
   "metadata": {
    "id": "lEXQ3OwKIa-O"
   },
   "source": [
    "<table class=\"tfo-notebook-buttons\" align=\"left\">\n",
    "  <td>\n",
    "    <a target=\"_blank\" href=\"https://ai.google.dev/gemini-api/docs/model-tuning/python\"><img src=\"https://ai.google.dev/static/site-assets/images/docs/notebook-site-button.png\" height=\"32\" width=\"32\" />View on ai.google.dev</a>\n",
    "  </td>\n",
    "    <td>\n",
    "    <a target=\"_blank\" href=\"https://colab.research.google.com/github/google/generative-ai-docs/blob/main/site/en/gemini-api/docs/model-tuning/python.ipynb\"><img src=\"https://www.tensorflow.org/images/colab_logo_32px.png\" />Run in Google Colab</a>\n",
    "  </td>\n",
    "  <td>\n",
    "    <a target=\"_blank\" href=\"https://github.com/google/generative-ai-docs/blob/main/site/en/gemini-api/docs/model-tuning/python.ipynb\"><img src=\"https://www.tensorflow.org/images/GitHub-Mark-32px.png\" />View source on GitHub</a>\n",
    "  </td>\n",
    "</table>"
   ]
  },
  {
   "cell_type": "markdown",
   "metadata": {
    "id": "Jp_CKyzxUqx6"
   },
   "source": [
    "In this notebook, you'll learn how to get started with the tuning service using the Python client library for the Gemini API. Here, you'll learn how to tune the text model behind the Gemini API's text generation service."
   ]
  },
  {
   "cell_type": "markdown",
   "metadata": {
    "id": "sOz_wyZAlCuQ"
   },
   "source": [
    "## Setup"
   ]
  },
  {
   "cell_type": "markdown",
   "metadata": {
    "id": "aHimx8NGMWDj"
   },
   "source": [
    "### Install the client library"
   ]
  },
  {
   "cell_type": "code",
   "execution_count": 5,
   "metadata": {
    "id": "cbcf72bcb56d"
   },
   "outputs": [],
   "source": [
    "!pip install -q google-generativeai"
   ]
  },
  {
   "cell_type": "markdown",
   "metadata": {
    "id": "jdIYSl2kN0cq"
   },
   "source": [
    "### Import libraries"
   ]
  },
  {
   "cell_type": "code",
   "execution_count": 6,
   "metadata": {
    "id": "8enrppafJPCX"
   },
   "outputs": [],
   "source": [
    "import google.generativeai as genai"
   ]
  },
  {
   "cell_type": "code",
   "execution_count": 8,
   "metadata": {
    "id": "lhqVUjH7ZKUi"
   },
   "outputs": [],
   "source": [
    "from google.colab import userdata\n",
    "genai.configure()"
   ]
  },
  {
   "cell_type": "markdown",
   "metadata": {
    "id": "P-MYZECwlRCq"
   },
   "source": [
    "You can check you existing tuned models with the `genai.list_tuned_model` method."
   ]
  },
  {
   "cell_type": "code",
   "execution_count": 9,
   "metadata": {
    "id": "XyWzoYFxU4r6"
   },
   "outputs": [],
   "source": [
    "for i, m in zip(range(5), genai.list_tuned_models()):\n",
    "  print(m.name)"
   ]
  },
  {
   "cell_type": "markdown",
   "metadata": {
    "id": "BhkXRzciv3Dp"
   },
   "source": [
    "## Create tuned model"
   ]
  },
  {
   "cell_type": "markdown",
   "metadata": {
    "id": "OO8VZYAinLWc"
   },
   "source": [
    "To create a tuned model, you need to pass your dataset to the model in the `genai.create_tuned_model` method. You can do this be directly defining the input and output values in the call or importing from a file into a dataframe to pass to the method.\n",
    "\n",
    "For this example, you will tune a model to generate the next number in the sequence. For example, if the input is `1`, the model should output `2`. If the input is `one hundred`, the output should be `one hundred one`."
   ]
  },
  {
   "cell_type": "code",
   "execution_count": 39,
   "metadata": {
    "colab": {
     "base_uri": "https://localhost:8080/",
     "height": 225
    },
    "id": "w-EBSe9wTbLB",
    "outputId": "31847f46-09bd-4f06-816c-82a02bdb1b80"
   },
   "outputs": [
    {
     "data": {
      "text/plain": [
       "Model(name='models/gemini-1.5-flash-001-tuning',\n",
       "      base_model_id='',\n",
       "      version='001',\n",
       "      display_name='Gemini 1.5 Flash 001 Tuning',\n",
       "      description='Fast and versatile multimodal model for scaling across diverse tasks',\n",
       "      input_token_limit=16384,\n",
       "      output_token_limit=8192,\n",
       "      supported_generation_methods=['generateContent', 'countTokens', 'createTunedModel'],\n",
       "      temperature=1.0,\n",
       "      max_temperature=2.0,\n",
       "      top_p=0.95,\n",
       "      top_k=64)"
      ]
     },
     "execution_count": 39,
     "metadata": {},
     "output_type": "execute_result"
    }
   ],
   "source": [
    "base_model = [\n",
    "    m for m in genai.list_models()\n",
    "    if \"createTunedModel\" in m.supported_generation_methods and\n",
    "    \"flash\" in m.name][0]\n",
    "base_model"
   ]
  },
  {
   "cell_type": "code",
   "execution_count": 41,
   "metadata": {
    "id": "baHjHh1oTTTC"
   },
   "outputs": [],
   "source": [
    "import random\n",
    "\n",
    "name = f'generate-num-spell-check-{random.randint(0,10000)}'\n",
    "operation = genai.create_tuned_model(\n",
    "    # You can use a tuned model here too. Set `source_model=\"tunedModels/...\"`\n",
    "    source_model=base_model.name,\n",
    "    training_data=[\n",
    "    {\n",
    "        'text_input': 'அவன் பாட்டி கதைச் சொல்கிறாள்.',  # Grammar mistake\n",
    "        'output': 'அவன் பாட்டி கதை சொல்லுகிறாள்.'\n",
    "    },\n",
    "    {\n",
    "        'text_input': 'அவள் புத்தகம் வாசிக்கின்றன.',  # Grammar mistake\n",
    "        'output': 'அவள் புத்தகம் வாசிக்கின்றாள்.'\n",
    "    },\n",
    "    {\n",
    "        'text_input': 'நாம் பாடசாலைக்குச் சென்று வருகிரோம்.',  # Spelling mistake\n",
    "        'output': 'நாம் பாடசாலைக்குச் சென்று வருகிறோம்.'\n",
    "    },\n",
    "    {\n",
    "        'text_input': 'அவர்கள் தோட்டத்தில் வேலை செய்கின்ரன.',  # Spelling and grammar mistake\n",
    "        'output': 'அவர்கள் தோட்டத்தில் வேலை செய்கிறார்கள்.'\n",
    "    },\n",
    "    {\n",
    "        'text_input': 'எனக்கு தேனீர் குடிக்கிறேன்.',  # Grammar mistake\n",
    "        'output': 'நான் தேநீர் குடிக்கிறேன்.'\n",
    "    },\n",
    "    {\n",
    "        'text_input': 'அவன் நண்பன் பேச்கின்றன.',  # Spelling and grammar mistake\n",
    "        'output': 'அவன் நண்பன் பேசுகின்றான்.'\n",
    "    },\n",
    "    {\n",
    "        'text_input': 'நீ விளையாடிகிறான்.',  # Spelling and grammar mistake\n",
    "        'output': 'நீ விளையாடுகிறாய்.'\n",
    "    },\n",
    "    {\n",
    "        'text_input': 'அவர் தன் வீட்டுக்கு சென்று வருகின்றாள.',  # Spelling mistake\n",
    "        'output': 'அவர் தன் வீட்டுக்கு சென்று வருகிறார்.'\n",
    "    },\n",
    "    {\n",
    "        'text_input': 'நான் மதியம் உனவுச்சாப்பிடுகிறது.',  # Spelling and grammar mistake\n",
    "        'output': 'நான் மதியம் உணவு சாப்பிடுகிறேன்.'\n",
    "    },\n",
    "    {\n",
    "        'text_input': 'நாங்கள் புத்தகம் வாங்குகிரார்கள்.',  # Spelling mistake\n",
    "        'output': 'நாங்கள் புத்தகம் வாங்குகிறோம்.'\n",
    "    },\n",
    "    {\n",
    "        'text_input': 'அவளுக்கு பாடம் பிடிகின்றது.',  # Spelling mistake\n",
    "        'output': 'அவளுக்கு பாடம் பிடிக்கின்றது.'\n",
    "    },\n",
    "    {\n",
    "        'text_input': 'அவர்கள் பந்தயம் பார்கின்றன.',  # Spelling mistake\n",
    "        'output': 'அவர்கள் பந்தயம் பார்க்கின்றார்கள்.'\n",
    "    },\n",
    "    {\n",
    "        'text_input': 'நீங்கள் காலை எழுந்தைர்.',  # Spelling and grammar mistake\n",
    "        'output': 'நீங்கள் காலை எழுந்தீர்கள்.'\n",
    "    },\n",
    "    {\n",
    "        'text_input': 'அவர்கள் பாடல்களை பாடுகின்றன.',  # Spelling mistake\n",
    "        'output': 'அவர்கள் பாடல்களைப் பாடுகின்றார்கள்.'\n",
    "    },\n",
    "    {\n",
    "        'text_input': 'அவன் நடனம் ஆடுகின்றான்.',  # Correct sentence for variety\n",
    "        'output': 'அவன் நடனம் ஆடுகின்றான்.'\n",
    "    },\n",
    "],\n",
    "    id = name,\n",
    "    epoch_count = 100,\n",
    "    batch_size=4,\n",
    "    learning_rate=0.001,\n",
    ")"
   ]
  },
  {
   "cell_type": "markdown",
   "metadata": {
    "id": "-As7ayWDK1w8"
   },
   "source": [
    "Your tuned model is immediately added to the list of tuned models, but its status is set to \"creating\" while the model is tuned."
   ]
  },
  {
   "cell_type": "code",
   "execution_count": 42,
   "metadata": {
    "colab": {
     "base_uri": "https://localhost:8080/",
     "height": 329
    },
    "id": "su64KgY4Uztj",
    "outputId": "f546d1d2-9650-41b1-cc10-1686c7e0968d"
   },
   "outputs": [
    {
     "data": {
      "text/plain": [
       "TunedModel(name='tunedModels/generate-num-spell-check-5838',\n",
       "           source_model='models/gemini-1.5-flash-001-tuning',\n",
       "           base_model='models/gemini-1.5-flash-001-tuning',\n",
       "           display_name='',\n",
       "           description='',\n",
       "           temperature=1.0,\n",
       "           top_p=0.95,\n",
       "           top_k=64,\n",
       "           state=<State.CREATING: 1>,\n",
       "           create_time=datetime.datetime(2024, 11, 4, 17, 4, 3, 327045, tzinfo=datetime.timezone.utc),\n",
       "           update_time=datetime.datetime(2024, 11, 4, 17, 4, 3, 327045, tzinfo=datetime.timezone.utc),\n",
       "           tuning_task=TuningTask(start_time=datetime.datetime(2024, 11, 4, 17, 4, 3, 607748, tzinfo=datetime.timezone.utc),\n",
       "                                  complete_time=None,\n",
       "                                  snapshots=[],\n",
       "                                  hyperparameters=Hyperparameters(epoch_count=100,\n",
       "                                                                  batch_size=4,\n",
       "                                                                  learning_rate=0.001)),\n",
       "           reader_project_numbers=None)"
      ]
     },
     "execution_count": 42,
     "metadata": {},
     "output_type": "execute_result"
    }
   ],
   "source": [
    "model = genai.get_tuned_model(f'tunedModels/{name}')\n",
    "\n",
    "model"
   ]
  },
  {
   "cell_type": "code",
   "execution_count": 43,
   "metadata": {
    "colab": {
     "base_uri": "https://localhost:8080/"
    },
    "id": "EUodUwZkKPi-",
    "outputId": "084da847-aac5-4f8c-be19-83146057f2e7"
   },
   "outputs": [
    {
     "data": {
      "text/plain": [
       "<State.CREATING: 1>"
      ]
     },
     "execution_count": 43,
     "metadata": {},
     "output_type": "execute_result"
    }
   ],
   "source": [
    "model.state"
   ]
  },
  {
   "cell_type": "markdown",
   "metadata": {
    "id": "Pi8X5vkQv-3_"
   },
   "source": [
    "### Check tuning progress"
   ]
  },
  {
   "cell_type": "markdown",
   "metadata": {
    "id": "tWI-vAh4LJIz"
   },
   "source": [
    "Use `metadata` to check the state:"
   ]
  },
  {
   "cell_type": "code",
   "execution_count": 44,
   "metadata": {
    "colab": {
     "base_uri": "https://localhost:8080/"
    },
    "id": "g08vqtxYLMxT",
    "outputId": "bff554e6-5c8d-433d-c8de-e3a68039ba05"
   },
   "outputs": [
    {
     "data": {
      "text/plain": [
       "total_steps: 375\n",
       "tuned_model: \"tunedModels/generate-num-spell-check-5838\""
      ]
     },
     "execution_count": 44,
     "metadata": {},
     "output_type": "execute_result"
    }
   ],
   "source": [
    "operation.metadata"
   ]
  },
  {
   "cell_type": "markdown",
   "metadata": {
    "id": "3lQ6gSMgK-kz"
   },
   "source": [
    "Wait for the training to finish using `operation.result()`, or `operation.wait_bar()`"
   ]
  },
  {
   "cell_type": "code",
   "execution_count": 45,
   "metadata": {
    "colab": {
     "base_uri": "https://localhost:8080/",
     "height": 49,
     "referenced_widgets": [
      "001ccf783ff84c32a131f9bdddd65e8a",
      "6323e28c7eed4ed2816af64fff713b7c",
      "b65fa6df21a54d8399374bb711e6625a",
      "eba7d87ee89e4575b12977fb65f16d28",
      "fd58bef50099492f92012954da725e25",
      "8133405a7eb54a40a2e62a5a8699b084",
      "19bfb1f8824d4283b3c0728b663356ab",
      "f584f79103614977b1399a4da0505388",
      "c99f96e2a92a433fbb9940e2c1fba4b5",
      "095ad60631e04b09a8d306ed40170103",
      "d243d706e4fa4a4eb19c15eb53c4ba59"
     ]
    },
    "id": "SOUowIv1HgSE",
    "outputId": "1152552c-0899-4b36-c721-675b7456eff1"
   },
   "outputs": [
    {
     "data": {
      "application/vnd.jupyter.widget-view+json": {
       "model_id": "001ccf783ff84c32a131f9bdddd65e8a",
       "version_major": 2,
       "version_minor": 0
      },
      "text/plain": [
       "  0%|          | 0/375 [00:00<?, ?it/s]"
      ]
     },
     "metadata": {},
     "output_type": "display_data"
    }
   ],
   "source": [
    "import time\n",
    "\n",
    "for status in operation.wait_bar():\n",
    "  time.sleep(30)"
   ]
  },
  {
   "cell_type": "markdown",
   "metadata": {
    "id": "4cg868HzqOx5"
   },
   "source": [
    "You can cancel your tuning job any time using the `cancel()` method. Uncomment the line below and run the code cell to cancel your job before it finishes."
   ]
  },
  {
   "cell_type": "code",
   "execution_count": 16,
   "metadata": {
    "id": "oQuJ70_hqJi9"
   },
   "outputs": [],
   "source": [
    "# operation.cancel()"
   ]
  },
  {
   "cell_type": "markdown",
   "metadata": {
    "id": "lqiL0TWDqAPn"
   },
   "source": [
    "Once the tuning is complete, you can view the loss curve from the tuning results. The [loss curve](https://ai.google.dev/gemini-api/docs/model-tuning#recommended_configurations) shows how much the model's predictions deviate from the ideal outputs."
   ]
  },
  {
   "cell_type": "code",
   "execution_count": 46,
   "metadata": {
    "colab": {
     "base_uri": "https://localhost:8080/",
     "height": 466
    },
    "id": "bIiG57xWLhP7",
    "outputId": "4cf058c1-48cc-46e8-8cea-e90010ce6656"
   },
   "outputs": [
    {
     "data": {
      "text/plain": [
       "<Axes: xlabel='epoch', ylabel='mean_loss'>"
      ]
     },
     "execution_count": 46,
     "metadata": {},
     "output_type": "execute_result"
    },
    {
     "data": {
      "image/png": "[encoded data removed]",
      "text/plain": [
       "<Figure size 640x480 with 1 Axes>"
      ]
     },
     "metadata": {},
     "output_type": "display_data"
    }
   ],
   "source": [
    "import pandas as pd\n",
    "import seaborn as sns\n",
    "\n",
    "model = operation.result()\n",
    "\n",
    "snapshots = pd.DataFrame(model.tuning_task.snapshots)\n",
    "\n",
    "sns.lineplot(data=snapshots, x = 'epoch', y='mean_loss')\n"
   ]
  },
  {
   "cell_type": "markdown",
   "metadata": {
    "id": "rkoQTXb1vSBC"
   },
   "source": [
    "## Evaluate your model\n",
    "\n",
    "You can use the `genai.generate_content` method and specify the name of your model to test your model performance."
   ]
  },
  {
   "cell_type": "code",
   "execution_count": 56,
   "metadata": {
    "id": "zO0YcuSyxydZ"
   },
   "outputs": [],
   "source": [
    "model = genai.GenerativeModel(model_name=f'tunedModels/{name}')"
   ]
  },
  {
   "cell_type": "code",
   "execution_count": 65,
   "metadata": {
    "colab": {
     "base_uri": "https://localhost:8080/",
     "height": 35
    },
    "id": "UwGrrj6hS_x2",
    "outputId": "d8bcba7c-3e02-4685-e6ee-f498703fe17f"
   },
   "outputs": [
    {
     "data": {
      "application/vnd.google.colaboratory.intrinsic+json": {
       "type": "string"
      },
      "text/plain": [
       "'நாங்கள் புத்தகம் வாங்குகிறோம்.'"
      ]
     },
     "execution_count": 65,
     "metadata": {},
     "output_type": "execute_result"
    }
   ],
   "source": [
    "result = model.generate_content('நாங்கள் புத்தகம் வாங்குகிரார்கள்.')\n",
    "result.text"
   ]
  },
  {
   "cell_type": "code",
   "execution_count": 60,
   "metadata": {
    "colab": {
     "base_uri": "https://localhost:8080/",
     "height": 35
    },
    "id": "YSNB2zjTx5SZ",
    "outputId": "095600f6-fcac-4c89-af55-f3a3a751561e"
   },
   "outputs": [
    {
     "data": {
      "application/vnd.google.colaboratory.intrinsic+json": {
       "type": "string"
      },
      "text/plain": [
       "'அவளின் கணவன் ஒரு நல்ல மனிதனாக இருக்கிறார்.'"
      ]
     },
     "execution_count": 60,
     "metadata": {},
     "output_type": "execute_result"
    }
   ],
   "source": [
    "result = model.generate_content('அவளின் கணவன் ஒரு நல்ல மனிதனாக இருக்கிறாள்.')\n",
    "result.text"
   ]
  },
  {
   "cell_type": "code",
   "execution_count": 61,
   "metadata": {
    "colab": {
     "base_uri": "https://localhost:8080/",
     "height": 35
    },
    "id": "Y2YVO-m0Ut9H",
    "outputId": "d6996d44-f5c0-435d-8409-12c9eb784163"
   },
   "outputs": [
    {
     "data": {
      "application/vnd.google.colaboratory.intrinsic+json": {
       "type": "string"
      },
      "text/plain": [
       "'நான் போகிறேன்.'"
      ]
     },
     "execution_count": 61,
     "metadata": {},
     "output_type": "execute_result"
    }
   ],
   "source": [
    "result = model.generate_content('நான் போகிறான்')\n",
    "result.text"
   ]
  },
  {
   "cell_type": "code",
   "execution_count": 64,
   "metadata": {
    "colab": {
     "base_uri": "https://localhost:8080/",
     "height": 35
    },
    "id": "h2MkTR0uTb6U",
    "outputId": "a1b45a23-40dd-4817-a02c-0ec12c17bc5c"
   },
   "outputs": [
    {
     "data": {
      "application/vnd.google.colaboratory.intrinsic+json": {
       "type": "string"
      },
      "text/plain": [
       "'அவர்கள் பாடல்களைப் பாடுகின்றார்கள்.'"
      ]
     },
     "execution_count": 64,
     "metadata": {},
     "output_type": "execute_result"
    }
   ],
   "source": [
    "result = model.generate_content('அவர்கள் பாடல்களை பாடுகின்றன.')\n",
    "result.text"
   ]
  },
  {
   "cell_type": "code",
   "execution_count": 52,
   "metadata": {
    "colab": {
     "base_uri": "https://localhost:8080/",
     "height": 35
    },
    "id": "OruCW1zETsZw",
    "outputId": "a5f18263-4d77-44d4-e8e7-43b18aa68b5d"
   },
   "outputs": [
    {
     "data": {
      "application/vnd.google.colaboratory.intrinsic+json": {
       "type": "string"
      },
      "text/plain": [
       "'இவன் ஒரு நல்ல மனிதன்.'"
      ]
     },
     "execution_count": 52,
     "metadata": {},
     "output_type": "execute_result"
    }
   ],
   "source": [
    "result = model.generate_content('இவன் ஒரு நல மனித')\n",
    "result.text"
   ]
  },
  {
   "cell_type": "markdown",
   "metadata": {
    "id": "HpIA1IFevQQR"
   },
   "source": [
    "It really seems to have picked up the task despite the limited examples, but \"next\" is a simple concept, see the [tuning guide](https://ai.google.dev/gemini-api/docs/model-tuning) for more guidance on improving performance."
   ]
  },
  {
   "cell_type": "markdown",
   "metadata": {
    "id": "nmuQCbTYwIOx"
   },
   "source": [
    "## Update the description\n",
    "\n",
    "You can update the description of your tuned model any time using the `genai.update_tuned_model` method."
   ]
  },
  {
   "cell_type": "code",
   "execution_count": 53,
   "metadata": {
    "id": "9gAVuXT_wG3x"
   },
   "outputs": [],
   "source": [
    "genai.update_tuned_model(f'tunedModels/{name}', {\"description\":\"This is my which corrects for tamil grammar's and spellings, second iteration\"});"
   ]
  },
  {
   "cell_type": "code",
   "execution_count": 54,
   "metadata": {
    "colab": {
     "base_uri": "https://localhost:8080/",
     "height": 35
    },
    "id": "d-c3YerBxVYs",
    "outputId": "b62a3d45-b7aa-4d59-d80e-81fa96bb70ee"
   },
   "outputs": [
    {
     "data": {
      "application/vnd.google.colaboratory.intrinsic+json": {
       "type": "string"
      },
      "text/plain": [
       "\"This is my which corrects for tamil grammar's and spellings, second iteration\""
      ]
     },
     "execution_count": 54,
     "metadata": {},
     "output_type": "execute_result"
    }
   ],
   "source": [
    "model = genai.get_tuned_model(f'tunedModels/{name}')\n",
    "\n",
    "model.description"
   ]
  },
  {
   "cell_type": "markdown",
   "metadata": {
    "id": "i_TpwvBB4bQ7"
   },
   "source": [
    "## Delete the model\n",
    "\n",
    "You can clean up your tuned model list by deleting models you no longer need. Use the `genai.delete_tuned_model` method to delete a model. If you canceled any tuning jobs, you may want to delete those as their performance may be unpredictable."
   ]
  },
  {
   "cell_type": "code",
   "execution_count": null,
   "metadata": {
    "id": "cepfaUCvVGCo"
   },
   "outputs": [],
   "source": [
    "genai.delete_tuned_model(f'tunedModels/{name}')"
   ]
  },
  {
   "cell_type": "markdown",
   "metadata": {
    "id": "ljEssIshYDEr"
   },
   "source": [
    "The model no longer exists:"
   ]
  },
  {
   "cell_type": "code",
   "execution_count": null,
   "metadata": {
    "id": "kN_bkut_4ayL",
    "outputId": "96f83daa-d300-4796-d5d6-9496643c6898"
   },
   "outputs": [
    {
     "name": "stdout",
     "output_type": "stream",
     "text": [
      "<class 'google.api_core.exceptions.NotFound'>: 404 GET https://generativelanguage.googleapis.com/v1beta/tunedModels/generate-num-8122?%24alt=json%3Benum-encoding%3Dint: Tuned model tunedModels/generate-num-8122 does not exist.\n"
     ]
    },
    {
     "name": "stderr",
     "output_type": "stream",
     "text": [
      "WARNING:tornado.access:404 GET /v1beta/tunedModels/generate-num-8122?%24alt=json%3Benum-encoding%3Dint (127.0.0.1) 838.85ms\n"
     ]
    }
   ],
   "source": [
    "try:\n",
    "  m = genai.get_tuned_model(f'tunedModels/{name}')\n",
    "  print(m)\n",
    "except Exception as e:\n",
    "  print(f\"{type(e)}: {e}\")"
   ]
  }
 ],
 "metadata": {
  "colab": {
   "name": "python.ipynb",
   "provenance": [],
   "toc_visible": true
  },
  "kernelspec": {
   "display_name": "Python 3",
   "name": "python3"
  },
  "widgets": {
   "application/vnd.jupyter.widget-state+json": {
    "001ccf783ff84c32a131f9bdddd65e8a": {
     "model_module": "@jupyter-widgets/controls",
     "model_module_version": "1.5.0",
     "model_name": "HBoxModel",
     "state": {
      "_dom_classes": [],
      "_model_module": "@jupyter-widgets/controls",
      "_model_module_version": "1.5.0",
      "_model_name": "HBoxModel",
      "_view_count": null,
      "_view_module": "@jupyter-widgets/controls",
      "_view_module_version": "1.5.0",
      "_view_name": "HBoxView",
      "box_style": "",
      "children": [
       "IPY_MODEL_6323e28c7eed4ed2816af64fff713b7c",
       "IPY_MODEL_b65fa6df21a54d8399374bb711e6625a",
       "IPY_MODEL_eba7d87ee89e4575b12977fb65f16d28"
      ],
      "layout": "IPY_MODEL_fd58bef50099492f92012954da725e25"
     }
    },
    "095ad60631e04b09a8d306ed40170103": {
     "model_module": "@jupyter-widgets/base",
     "model_module_version": "1.2.0",
     "model_name": "LayoutModel",
     "state": {
      "_model_module": "@jupyter-widgets/base",
      "_model_module_version": "1.2.0",
      "_model_name": "LayoutModel",
      "_view_count": null,
      "_view_module": "@jupyter-widgets/base",
      "_view_module_version": "1.2.0",
      "_view_name": "LayoutView",
      "align_content": null,
      "align_items": null,
      "align_self": null,
      "border": null,
      "bottom": null,
      "display": null,
      "flex": null,
      "flex_flow": null,
      "grid_area": null,
      "grid_auto_columns": null,
      "grid_auto_flow": null,
      "grid_auto_rows": null,
      "grid_column": null,
      "grid_gap": null,
      "grid_row": null,
      "grid_template_areas": null,
      "grid_template_columns": null,
      "grid_template_rows": null,
      "height": null,
      "justify_content": null,
      "justify_items": null,
      "left": null,
      "margin": null,
      "max_height": null,
      "max_width": null,
      "min_height": null,
      "min_width": null,
      "object_fit": null,
      "object_position": null,
      "order": null,
      "overflow": null,
      "overflow_x": null,
      "overflow_y": null,
      "padding": null,
      "right": null,
      "top": null,
      "visibility": null,
      "width": null
     }
    },
    "19bfb1f8824d4283b3c0728b663356ab": {
     "model_module": "@jupyter-widgets/controls",
     "model_module_version": "1.5.0",
     "model_name": "DescriptionStyleModel",
     "state": {
      "_model_module": "@jupyter-widgets/controls",
      "_model_module_version": "1.5.0",
      "_model_name": "DescriptionStyleModel",
      "_view_count": null,
      "_view_module": "@jupyter-widgets/base",
      "_view_module_version": "1.2.0",
      "_view_name": "StyleView",
      "description_width": ""
     }
    },
    "6323e28c7eed4ed2816af64fff713b7c": {
     "model_module": "@jupyter-widgets/controls",
     "model_module_version": "1.5.0",
     "model_name": "HTMLModel",
     "state": {
      "_dom_classes": [],
      "_model_module": "@jupyter-widgets/controls",
      "_model_module_version": "1.5.0",
      "_model_name": "HTMLModel",
      "_view_count": null,
      "_view_module": "@jupyter-widgets/controls",
      "_view_module_version": "1.5.0",
      "_view_name": "HTMLView",
      "description": "",
      "description_tooltip": null,
      "layout": "IPY_MODEL_8133405a7eb54a40a2e62a5a8699b084",
      "placeholder": "​",
      "style": "IPY_MODEL_19bfb1f8824d4283b3c0728b663356ab",
      "value": "100%"
     }
    },
    "8133405a7eb54a40a2e62a5a8699b084": {
     "model_module": "@jupyter-widgets/base",
     "model_module_version": "1.2.0",
     "model_name": "LayoutModel",
     "state": {
      "_model_module": "@jupyter-widgets/base",
      "_model_module_version": "1.2.0",
      "_model_name": "LayoutModel",
      "_view_count": null,
      "_view_module": "@jupyter-widgets/base",
      "_view_module_version": "1.2.0",
      "_view_name": "LayoutView",
      "align_content": null,
      "align_items": null,
      "align_self": null,
      "border": null,
      "bottom": null,
      "display": null,
      "flex": null,
      "flex_flow": null,
      "grid_area": null,
      "grid_auto_columns": null,
      "grid_auto_flow": null,
      "grid_auto_rows": null,
      "grid_column": null,
      "grid_gap": null,
      "grid_row": null,
      "grid_template_areas": null,
      "grid_template_columns": null,
      "grid_template_rows": null,
      "height": null,
      "justify_content": null,
      "justify_items": null,
      "left": null,
      "margin": null,
      "max_height": null,
      "max_width": null,
      "min_height": null,
      "min_width": null,
      "object_fit": null,
      "object_position": null,
      "order": null,
      "overflow": null,
      "overflow_x": null,
      "overflow_y": null,
      "padding": null,
      "right": null,
      "top": null,
      "visibility": null,
      "width": null
     }
    },
    "b65fa6df21a54d8399374bb711e6625a": {
     "model_module": "@jupyter-widgets/controls",
     "model_module_version": "1.5.0",
     "model_name": "FloatProgressModel",
     "state": {
      "_dom_classes": [],
      "_model_module": "@jupyter-widgets/controls",
      "_model_module_version": "1.5.0",
      "_model_name": "FloatProgressModel",
      "_view_count": null,
      "_view_module": "@jupyter-widgets/controls",
      "_view_module_version": "1.5.0",
      "_view_name": "ProgressView",
      "bar_style": "success",
      "description": "",
      "description_tooltip": null,
      "layout": "IPY_MODEL_f584f79103614977b1399a4da0505388",
      "max": 375,
      "min": 0,
      "orientation": "horizontal",
      "style": "IPY_MODEL_c99f96e2a92a433fbb9940e2c1fba4b5",
      "value": 375
     }
    },
    "c99f96e2a92a433fbb9940e2c1fba4b5": {
     "model_module": "@jupyter-widgets/controls",
     "model_module_version": "1.5.0",
     "model_name": "ProgressStyleModel",
     "state": {
      "_model_module": "@jupyter-widgets/controls",
      "_model_module_version": "1.5.0",
      "_model_name": "ProgressStyleModel",
      "_view_count": null,
      "_view_module": "@jupyter-widgets/base",
      "_view_module_version": "1.2.0",
      "_view_name": "StyleView",
      "bar_color": null,
      "description_width": ""
     }
    },
    "d243d706e4fa4a4eb19c15eb53c4ba59": {
     "model_module": "@jupyter-widgets/controls",
     "model_module_version": "1.5.0",
     "model_name": "DescriptionStyleModel",
     "state": {
      "_model_module": "@jupyter-widgets/controls",
      "_model_module_version": "1.5.0",
      "_model_name": "DescriptionStyleModel",
      "_view_count": null,
      "_view_module": "@jupyter-widgets/base",
      "_view_module_version": "1.2.0",
      "_view_name": "StyleView",
      "description_width": ""
     }
    },
    "eba7d87ee89e4575b12977fb65f16d28": {
     "model_module": "@jupyter-widgets/controls",
     "model_module_version": "1.5.0",
     "model_name": "HTMLModel",
     "state": {
      "_dom_classes": [],
      "_model_module": "@jupyter-widgets/controls",
      "_model_module_version": "1.5.0",
      "_model_name": "HTMLModel",
      "_view_count": null,
      "_view_module": "@jupyter-widgets/controls",
      "_view_module_version": "1.5.0",
      "_view_name": "HTMLView",
      "description": "",
      "description_tooltip": null,
      "layout": "IPY_MODEL_095ad60631e04b09a8d306ed40170103",
      "placeholder": "​",
      "style": "IPY_MODEL_d243d706e4fa4a4eb19c15eb53c4ba59",
      "value": " 375/375 [17:00&lt;00:00,  2.70s/it]"
     }
    },
    "f584f79103614977b1399a4da0505388": {
     "model_module": "@jupyter-widgets/base",
     "model_module_version": "1.2.0",
     "model_name": "LayoutModel",
     "state": {
      "_model_module": "@jupyter-widgets/base",
      "_model_module_version": "1.2.0",
      "_model_name": "LayoutModel",
      "_view_count": null,
      "_view_module": "@jupyter-widgets/base",
      "_view_module_version": "1.2.0",
      "_view_name": "LayoutView",
      "align_content": null,
      "align_items": null,
      "align_self": null,
      "border": null,
      "bottom": null,
      "display": null,
      "flex": null,
      "flex_flow": null,
      "grid_area": null,
      "grid_auto_columns": null,
      "grid_auto_flow": null,
      "grid_auto_rows": null,
      "grid_column": null,
      "grid_gap": null,
      "grid_row": null,
      "grid_template_areas": null,
      "grid_template_columns": null,
      "grid_template_rows": null,
      "height": null,
      "justify_content": null,
      "justify_items": null,
      "left": null,
      "margin": null,
      "max_height": null,
      "max_width": null,
      "min_height": null,
      "min_width": null,
      "object_fit": null,
      "object_position": null,
      "order": null,
      "overflow": null,
      "overflow_x": null,
      "overflow_y": null,
      "padding": null,
      "right": null,
      "top": null,
      "visibility": null,
      "width": null
     }
    },
    "fd58bef50099492f92012954da725e25": {
     "model_module": "@jupyter-widgets/base",
     "model_module_version": "1.2.0",
     "model_name": "LayoutModel",
     "state": {
      "_model_module": "@jupyter-widgets/base",
      "_model_module_version": "1.2.0",
      "_model_name": "LayoutModel",
      "_view_count": null,
      "_view_module": "@jupyter-widgets/base",
      "_view_module_version": "1.2.0",
      "_view_name": "LayoutView",
      "align_content": null,
      "align_items": null,
      "align_self": null,
      "border": null,
      "bottom": null,
      "display": null,
      "flex": null,
      "flex_flow": null,
      "grid_area": null,
      "grid_auto_columns": null,
      "grid_auto_flow": null,
      "grid_auto_rows": null,
      "grid_column": null,
      "grid_gap": null,
      "grid_row": null,
      "grid_template_areas": null,
      "grid_template_columns": null,
      "grid_template_rows": null,
      "height": null,
      "justify_content": null,
      "justify_items": null,
      "left": null,
      "margin": null,
      "max_height": null,
      "max_width": null,
      "min_height": null,
      "min_width": null,
      "object_fit": null,
      "object_position": null,
      "order": null,
      "overflow": null,
      "overflow_x": null,
      "overflow_y": null,
      "padding": null,
      "right": null,
      "top": null,
      "visibility": null,
      "width": null
     }
    }
   }
  }
 },
 "nbformat": 4,
 "nbformat_minor": 0
}
